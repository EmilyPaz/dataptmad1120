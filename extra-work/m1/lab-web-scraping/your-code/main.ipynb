{
 "cells": [
  {
   "cell_type": "markdown",
   "metadata": {},
   "source": [
    "# Web Scraping Lab\n",
    "\n",
    "You will find in this notebook some scrapy exercises to practise your scraping skills.\n",
    "\n",
    "**Tips:**\n",
    "\n",
    "- Check the response status code for each request to ensure you have obtained the intended content.\n",
    "- Print the response text in each request to understand the kind of info you are getting and its format.\n",
    "- Check for patterns in the response text to extract the data/info requested in each question.\n",
    "- Visit the urls below and take a look at their source code through Chrome DevTools. You'll need to identify the html tags, special class names, etc used in the html content you are expected to extract.\n",
    "\n",
    "**Resources**:\n",
    "- [Requests library](http://docs.python-requests.org/en/master/#the-user-guide)\n",
    "- [Beautiful Soup Doc](https://www.crummy.com/software/BeautifulSoup/bs4/doc/)\n",
    "- [Urllib](https://docs.python.org/3/library/urllib.html#module-urllib)\n",
    "- [re lib](https://docs.python.org/3/library/re.html)\n",
    "- [lxml lib](https://lxml.de/)\n",
    "- [Scrapy](https://scrapy.org/)\n",
    "- [List of HTTP status codes](https://en.wikipedia.org/wiki/List_of_HTTP_status_codes)\n",
    "- [HTML basics](http://www.simplehtmlguide.com/cheatsheet.php)\n",
    "- [CSS basics](https://www.cssbasics.com/#page_start)"
   ]
  },
  {
   "cell_type": "markdown",
   "metadata": {},
   "source": [
    "#### Below are the libraries and modules you may need. `requests`,  `BeautifulSoup` and `pandas` are already imported for you. If you prefer to use additional libraries feel free to do it."
   ]
  },
  {
   "cell_type": "code",
   "execution_count": 24,
   "metadata": {},
   "outputs": [],
   "source": [
    "import requests\n",
    "from bs4 import BeautifulSoup\n",
    "import pandas as pd\n",
    "import re"
   ]
  },
  {
   "cell_type": "markdown",
   "metadata": {},
   "source": [
    "#### Download, parse (using BeautifulSoup), and print the content from the Trending Developers page from GitHub:"
   ]
  },
  {
   "cell_type": "code",
   "execution_count": 2,
   "metadata": {},
   "outputs": [],
   "source": [
    "# This is the url you will scrape in this exercise\n",
    "url = 'https://github.com/trending/developers'"
   ]
  },
  {
   "cell_type": "code",
   "execution_count": 3,
   "metadata": {},
   "outputs": [],
   "source": [
    "html = requests.get(url).content"
   ]
  },
  {
   "cell_type": "code",
   "execution_count": 4,
   "metadata": {},
   "outputs": [],
   "source": [
    "soup = BeautifulSoup(html, 'html.parser')"
   ]
  },
  {
   "cell_type": "markdown",
   "metadata": {},
   "source": [
    "#### Display the names of the trending developers retrieved in the previous step.\n",
    "\n",
    "Your output should be a Python list of developer names. Each name should not contain any html tag.\n",
    "\n",
    "**Instructions:**\n",
    "\n",
    "1. Find out the html tag and class names used for the developer names. You can achieve this using Chrome DevTools.\n",
    "\n",
    "1. Use BeautifulSoup to extract all the html elements that contain the developer names.\n",
    "\n",
    "1. Use string manipulation techniques to replace whitespaces and linebreaks (i.e. `\\n`) in the *text* of each html element. Use a list to store the clean names.\n",
    "\n",
    "1. Print the list of names.\n",
    "\n",
    "Your output should look like below:\n",
    "\n",
    "```\n",
    "['trimstray (@trimstray)',\n",
    " 'joewalnes (JoeWalnes)',\n",
    " 'charlax (Charles-AxelDein)',\n",
    " 'ForrestKnight (ForrestKnight)',\n",
    " 'revery-ui (revery-ui)',\n",
    " 'alibaba (Alibaba)',\n",
    " 'Microsoft (Microsoft)',\n",
    " 'github (GitHub)',\n",
    " 'facebook (Facebook)',\n",
    " 'boazsegev (Bo)',\n",
    " 'google (Google)',\n",
    " 'cloudfetch',\n",
    " 'sindresorhus (SindreSorhus)',\n",
    " 'tensorflow',\n",
    " 'apache (TheApacheSoftwareFoundation)',\n",
    " 'DevonCrawford (DevonCrawford)',\n",
    " 'ARMmbed (ArmMbed)',\n",
    " 'vuejs (vuejs)',\n",
    " 'fastai (fast.ai)',\n",
    " 'QiShaoXuan (Qi)',\n",
    " 'joelparkerhenderson (JoelParkerHenderson)',\n",
    " 'torvalds (LinusTorvalds)',\n",
    " 'CyC2018',\n",
    " 'komeiji-satori (神楽坂覚々)',\n",
    " 'script-8']\n",
    " ```"
   ]
  },
  {
   "cell_type": "code",
   "execution_count": 102,
   "metadata": {},
   "outputs": [],
   "source": [
    "table_1 = soup.find_all('h1', {'class' : 'h3 lh-condensed'})"
   ]
  },
  {
   "cell_type": "code",
   "execution_count": 103,
   "metadata": {},
   "outputs": [],
   "source": [
    "table_1_text = [i.text for i in table_1]"
   ]
  },
  {
   "cell_type": "code",
   "execution_count": 104,
   "metadata": {},
   "outputs": [],
   "source": [
    "remove_delimiter = [re.sub('<.*?>', '', i) for i in table_1_text]"
   ]
  },
  {
   "cell_type": "code",
   "execution_count": 105,
   "metadata": {},
   "outputs": [],
   "source": [
    "user_names = [i.replace('\\n', '').strip() for i in remove_delimiter]"
   ]
  },
  {
   "cell_type": "code",
   "execution_count": 112,
   "metadata": {},
   "outputs": [],
   "source": [
    "table_2 = soup.find_all('p', {'class' : 'f4 text-normal mb-1'})"
   ]
  },
  {
   "cell_type": "code",
   "execution_count": 113,
   "metadata": {},
   "outputs": [],
   "source": [
    "table_2_text = [i.text for i in table_2]"
   ]
  },
  {
   "cell_type": "code",
   "execution_count": 116,
   "metadata": {},
   "outputs": [],
   "source": [
    "remove_delimiter = [re.sub('<.*?>', '', i) for i in table_2_text]"
   ]
  },
  {
   "cell_type": "code",
   "execution_count": 117,
   "metadata": {},
   "outputs": [],
   "source": [
    "user_users = [i.replace('\\n', '').strip() for i in remove_delimiter]"
   ]
  },
  {
   "cell_type": "code",
   "execution_count": 119,
   "metadata": {},
   "outputs": [],
   "source": [
    "complete_list = [f'{i} ({z})' for i,z in zip(user_names, user_users)]"
   ]
  },
  {
   "cell_type": "code",
   "execution_count": 120,
   "metadata": {},
   "outputs": [
    {
     "data": {
      "text/plain": [
       "['Anthony Sottile (asottile)',\n",
       " 'Michael Lynch (mtlynch)',\n",
       " 'Michał Krassowski (krassowski)',\n",
       " 'Mladen Macanović (stsrki)',\n",
       " 'Arvid Norberg (arvidn)',\n",
       " 'Dries Vints (driesvints)',\n",
       " 'Blake Blackshear (blakeblackshear)',\n",
       " 'Miek Gieben (miekg)',\n",
       " 'Pierre Krieger (tomaka)',\n",
       " 'isaacs (isaacs)',\n",
       " 'Julien Danjou (jd)',\n",
       " 'Wei Wang (onevcat)',\n",
       " 'Henrik Rydgård (hrydgard)',\n",
       " 'Michael Waskom (mwaskom)',\n",
       " 'Stephen Celis (stephencelis)',\n",
       " 'pedrobern (PedroBern)',\n",
       " 'Guillaume Gomez (GuillaumeGomez)',\n",
       " 'Michael Teeuw (MichMich)',\n",
       " 'Kévin Dunglas (dunglas)',\n",
       " 'Filippo Valsorda (FiloSottile)',\n",
       " 'Diamond Lewis (dplewis)',\n",
       " 'Felix Angelov (felangel)',\n",
       " 'van Hauser (vanhauser-thc)',\n",
       " 'snipe (snipe)',\n",
       " 'Himanshu Mishra (OrkoHunter)']"
      ]
     },
     "execution_count": 120,
     "metadata": {},
     "output_type": "execute_result"
    }
   ],
   "source": [
    "complete_list"
   ]
  },
  {
   "cell_type": "markdown",
   "metadata": {},
   "source": [
    "#### Display the trending Python repositories in GitHub.\n",
    "\n",
    "The steps to solve this problem is similar to the previous one except that you need to find out the repository names instead of developer names."
   ]
  },
  {
   "cell_type": "code",
   "execution_count": 121,
   "metadata": {},
   "outputs": [],
   "source": [
    "# This is the url you will scrape in this exercise\n",
    "url = 'https://github.com/trending/python?since=daily'"
   ]
  },
  {
   "cell_type": "code",
   "execution_count": 122,
   "metadata": {},
   "outputs": [],
   "source": [
    "html = requests.get(url).content"
   ]
  },
  {
   "cell_type": "code",
   "execution_count": 124,
   "metadata": {},
   "outputs": [],
   "source": [
    "soup = BeautifulSoup(html, 'html.parser')"
   ]
  },
  {
   "cell_type": "code",
   "execution_count": 125,
   "metadata": {},
   "outputs": [],
   "source": [
    "extracting_repos = soup.find_all('h1', {'class' : 'h3 lh-condensed'})"
   ]
  },
  {
   "cell_type": "code",
   "execution_count": 126,
   "metadata": {},
   "outputs": [],
   "source": [
    "repo_text = [i.text.strip() for i in trend_repo]"
   ]
  },
  {
   "cell_type": "code",
   "execution_count": 139,
   "metadata": {},
   "outputs": [],
   "source": [
    "trending_repos = [i.replace('\\n\\n      ', ' ') for i in repo_text]"
   ]
  },
  {
   "cell_type": "code",
   "execution_count": 140,
   "metadata": {},
   "outputs": [
    {
     "data": {
      "text/plain": [
       "['explosion / spaCy',\n",
       " 'doino-gretchenliev / revolut-stocks',\n",
       " 'TheAlgorithms / Python',\n",
       " 'MathInspector / MathInspector',\n",
       " 'swisskyrepo / PayloadsAllTheThings',\n",
       " 'dupontgu / retro-ipod-spotify-client',\n",
       " 'alibaba / taobao-iphone-device',\n",
       " '3b1b / manim',\n",
       " 'minimaxir / big-list-of-naughty-strings',\n",
       " 'sdushantha / wifi-password',\n",
       " 'tensortrade-org / tensortrade',\n",
       " 'davidbombal / red-python-scripts',\n",
       " 'HashPals / Name-That-Hash',\n",
       " 'tiangolo / fastapi',\n",
       " 'PeterL1n / BackgroundMattingV2',\n",
       " 'yanshengjia / ml-road',\n",
       " 'optas / artemis',\n",
       " 'huggingface / transformers',\n",
       " 'ultrafunkamsterdam / undetected-chromedriver',\n",
       " 'y1ndan / genshin-impact-helper',\n",
       " 'ZHKKKe / MODNet',\n",
       " 'numpy / numpy',\n",
       " 'owid / covid-19-data',\n",
       " 'aws / aws-cli',\n",
       " 'vt-vl-lab / FGVC']"
      ]
     },
     "execution_count": 140,
     "metadata": {},
     "output_type": "execute_result"
    }
   ],
   "source": [
    "trending_repos"
   ]
  },
  {
   "cell_type": "markdown",
   "metadata": {},
   "source": [
    "#### Display all the image links from Walt Disney wikipedia page."
   ]
  },
  {
   "cell_type": "code",
   "execution_count": 141,
   "metadata": {},
   "outputs": [],
   "source": [
    "# This is the url you will scrape in this exercise\n",
    "url = 'https://en.wikipedia.org/wiki/Walt_Disney'"
   ]
  },
  {
   "cell_type": "code",
   "execution_count": 142,
   "metadata": {},
   "outputs": [],
   "source": [
    "html = requests.get(url).content"
   ]
  },
  {
   "cell_type": "code",
   "execution_count": 143,
   "metadata": {},
   "outputs": [],
   "source": [
    "soup = BeautifulSoup(html, 'html.parser')"
   ]
  },
  {
   "cell_type": "code",
   "execution_count": 197,
   "metadata": {},
   "outputs": [],
   "source": [
    "extracting_images = soup.find_all('a', href=True)"
   ]
  },
  {
   "cell_type": "code",
   "execution_count": 198,
   "metadata": {},
   "outputs": [],
   "source": [
    "images_list = [i['href'] for i in extracting_images]"
   ]
  },
  {
   "cell_type": "code",
   "execution_count": 202,
   "metadata": {},
   "outputs": [],
   "source": [
    "links = [i for i in images_list if i.endswith('.jpg') or i.endswith('.JPG')]"
   ]
  },
  {
   "cell_type": "code",
   "execution_count": 203,
   "metadata": {},
   "outputs": [
    {
     "data": {
      "text/plain": [
       "['/wiki/File:Walt_Disney_1946.JPG',\n",
       " '/wiki/File:Walt_Disney_envelope_ca._1921.jpg',\n",
       " '/wiki/File:Walt_Disney_envelope_ca._1921.jpg',\n",
       " '/wiki/File:Trolley_Troubles_poster.jpg',\n",
       " '/wiki/File:Trolley_Troubles_poster.jpg',\n",
       " '/wiki/File:Walt_Disney_and_his_cartoon_creation_%22Mickey_Mouse%22_-_National_Board_of_Review_Magazine.jpg',\n",
       " '/wiki/File:Walt_Disney_and_his_cartoon_creation_%22Mickey_Mouse%22_-_National_Board_of_Review_Magazine.jpg',\n",
       " '/wiki/File:Steamboat-willie.jpg',\n",
       " '/wiki/File:Steamboat-willie.jpg',\n",
       " '/wiki/File:Walt_Disney_1935.jpg',\n",
       " '/wiki/File:Walt_Disney_1935.jpg',\n",
       " '/wiki/File:Walt_Disney_Snow_white_1937_trailer_screenshot_(13).jpg',\n",
       " '/wiki/File:Walt_Disney_Snow_white_1937_trailer_screenshot_(13).jpg',\n",
       " '/wiki/File:Disney_drawing_goofy.jpg',\n",
       " '/wiki/File:Disney_drawing_goofy.jpg',\n",
       " '/wiki/File:DisneySchiphol1951.jpg',\n",
       " '/wiki/File:DisneySchiphol1951.jpg',\n",
       " '/wiki/File:WaltDisneyplansDisneylandDec1954.jpg',\n",
       " '/wiki/File:WaltDisneyplansDisneylandDec1954.jpg',\n",
       " '/wiki/File:Walt_disney_portrait_right.jpg',\n",
       " '/wiki/File:Walt_disney_portrait_right.jpg',\n",
       " '/wiki/File:Walt_Disney_Grave.JPG',\n",
       " '/wiki/File:Walt_Disney_Grave.JPG',\n",
       " '/wiki/File:Roy_O._Disney_with_Company_at_Press_Conference.jpg',\n",
       " '/wiki/File:Roy_O._Disney_with_Company_at_Press_Conference.jpg',\n",
       " '/wiki/File:Disney_Display_Case.JPG',\n",
       " '/wiki/File:Disney_Display_Case.JPG',\n",
       " '/wiki/File:Disney1968.jpg',\n",
       " '/wiki/File:Disney1968.jpg',\n",
       " '/wiki/File:Magic_Kingdom_castle.jpg']"
      ]
     },
     "execution_count": 203,
     "metadata": {},
     "output_type": "execute_result"
    }
   ],
   "source": [
    "links\n",
    "\n",
    "#at first i tried to extract the links from src or srcset, not from href, in this same way, but it always gave back an empty list, idk why."
   ]
  },
  {
   "cell_type": "markdown",
   "metadata": {},
   "source": [
    "#### Retrieve an arbitary Wikipedia page of \"Python\" and create a list of links on that page."
   ]
  },
  {
   "cell_type": "code",
   "execution_count": 204,
   "metadata": {},
   "outputs": [],
   "source": [
    "# This is the url you will scrape in this exercise\n",
    "url ='https://en.wikipedia.org/wiki/Python' "
   ]
  },
  {
   "cell_type": "code",
   "execution_count": 205,
   "metadata": {},
   "outputs": [],
   "source": [
    "html = requests.get(url).content"
   ]
  },
  {
   "cell_type": "code",
   "execution_count": 206,
   "metadata": {},
   "outputs": [],
   "source": [
    "soup = BeautifulSoup(html, 'html.parser')"
   ]
  },
  {
   "cell_type": "code",
   "execution_count": 207,
   "metadata": {},
   "outputs": [],
   "source": [
    "extracting_links = soup.find_all('a', href=True)"
   ]
  },
  {
   "cell_type": "code",
   "execution_count": 211,
   "metadata": {},
   "outputs": [],
   "source": [
    "links_list = [i['href'] for i in extracting_links]"
   ]
  },
  {
   "cell_type": "code",
   "execution_count": 213,
   "metadata": {},
   "outputs": [],
   "source": [
    "links = [i for i in links_list if i.startswith('https')]"
   ]
  },
  {
   "cell_type": "code",
   "execution_count": 214,
   "metadata": {},
   "outputs": [
    {
     "data": {
      "text/plain": [
       "['https://en.wiktionary.org/wiki/Python',\n",
       " 'https://en.wiktionary.org/wiki/python',\n",
       " 'https://en.wikipedia.org/w/index.php?title=Special:WhatLinksHere/Python&namespace=0',\n",
       " 'https://en.wikipedia.org/w/index.php?title=Python&oldid=997582414',\n",
       " 'https://donate.wikimedia.org/wiki/Special:FundraiserRedirector?utm_source=donate&utm_medium=sidebar&utm_campaign=C13_en.wikipedia.org&uselang=en',\n",
       " 'https://www.wikidata.org/wiki/Special:EntityPage/Q747452',\n",
       " 'https://commons.wikimedia.org/wiki/Category:Python',\n",
       " 'https://af.wikipedia.org/wiki/Python',\n",
       " 'https://als.wikipedia.org/wiki/Python',\n",
       " 'https://ar.wikipedia.org/wiki/%D8%A8%D8%A7%D9%8A%D8%AB%D9%88%D9%86_(%D8%AA%D9%88%D8%B6%D9%8A%D8%AD)',\n",
       " 'https://az.wikipedia.org/wiki/Python',\n",
       " 'https://bn.wikipedia.org/wiki/%E0%A6%AA%E0%A6%BE%E0%A6%87%E0%A6%A5%E0%A6%A8_(%E0%A6%A6%E0%A7%8D%E0%A6%AC%E0%A7%8D%E0%A6%AF%E0%A6%B0%E0%A7%8D%E0%A6%A5%E0%A6%A4%E0%A6%BE_%E0%A6%A8%E0%A6%BF%E0%A6%B0%E0%A6%B8%E0%A6%A8)',\n",
       " 'https://be.wikipedia.org/wiki/Python',\n",
       " 'https://bg.wikipedia.org/wiki/%D0%9F%D0%B8%D1%82%D0%BE%D0%BD_(%D0%BF%D0%BE%D1%8F%D1%81%D0%BD%D0%B5%D0%BD%D0%B8%D0%B5)',\n",
       " 'https://cs.wikipedia.org/wiki/Python_(rozcestn%C3%ADk)',\n",
       " 'https://da.wikipedia.org/wiki/Python',\n",
       " 'https://de.wikipedia.org/wiki/Python',\n",
       " 'https://eo.wikipedia.org/wiki/Pitono_(apartigilo)',\n",
       " 'https://eu.wikipedia.org/wiki/Python_(argipena)',\n",
       " 'https://fa.wikipedia.org/wiki/%D9%BE%D8%A7%DB%8C%D8%AA%D9%88%D9%86',\n",
       " 'https://fr.wikipedia.org/wiki/Python',\n",
       " 'https://ko.wikipedia.org/wiki/%ED%8C%8C%EC%9D%B4%EC%84%A0',\n",
       " 'https://hr.wikipedia.org/wiki/Python_(razdvojba)',\n",
       " 'https://io.wikipedia.org/wiki/Pitono',\n",
       " 'https://id.wikipedia.org/wiki/Python',\n",
       " 'https://ia.wikipedia.org/wiki/Python_(disambiguation)',\n",
       " 'https://is.wikipedia.org/wiki/Python_(a%C3%B0greining)',\n",
       " 'https://it.wikipedia.org/wiki/Python_(disambigua)',\n",
       " 'https://he.wikipedia.org/wiki/%D7%A4%D7%99%D7%AA%D7%95%D7%9F',\n",
       " 'https://ka.wikipedia.org/wiki/%E1%83%9E%E1%83%98%E1%83%97%E1%83%9D%E1%83%9C%E1%83%98_(%E1%83%9B%E1%83%A0%E1%83%90%E1%83%95%E1%83%90%E1%83%9A%E1%83%9B%E1%83%9C%E1%83%98%E1%83%A8%E1%83%95%E1%83%9C%E1%83%94%E1%83%9A%E1%83%9D%E1%83%95%E1%83%90%E1%83%9C%E1%83%98)',\n",
       " 'https://kg.wikipedia.org/wiki/Mboma_(nyoka)',\n",
       " 'https://la.wikipedia.org/wiki/Python_(discretiva)',\n",
       " 'https://lb.wikipedia.org/wiki/Python',\n",
       " 'https://hu.wikipedia.org/wiki/Python_(egy%C3%A9rtelm%C5%B1s%C3%ADt%C5%91_lap)',\n",
       " 'https://mr.wikipedia.org/wiki/%E0%A4%AA%E0%A4%BE%E0%A4%AF%E0%A4%A5%E0%A5%89%E0%A4%A8_(%E0%A4%86%E0%A4%9C%E0%A5%8D%E0%A4%9E%E0%A4%BE%E0%A4%B5%E0%A4%B2%E0%A5%80_%E0%A4%AD%E0%A4%BE%E0%A4%B7%E0%A4%BE)',\n",
       " 'https://nl.wikipedia.org/wiki/Python',\n",
       " 'https://ja.wikipedia.org/wiki/%E3%83%91%E3%82%A4%E3%82%BD%E3%83%B3',\n",
       " 'https://no.wikipedia.org/wiki/Pyton',\n",
       " 'https://pl.wikipedia.org/wiki/Pyton',\n",
       " 'https://pt.wikipedia.org/wiki/Python_(desambigua%C3%A7%C3%A3o)',\n",
       " 'https://ru.wikipedia.org/wiki/Python_(%D0%B7%D0%BD%D0%B0%D1%87%D0%B5%D0%BD%D0%B8%D1%8F)',\n",
       " 'https://sk.wikipedia.org/wiki/Python',\n",
       " 'https://sr.wikipedia.org/wiki/%D0%9F%D0%B8%D1%82%D0%BE%D0%BD_(%D0%B2%D0%B8%D1%88%D0%B5%D0%B7%D0%BD%D0%B0%D1%87%D0%BD%D0%B0_%D0%BE%D0%B4%D1%80%D0%B5%D0%B4%D0%BD%D0%B8%D1%86%D0%B0)',\n",
       " 'https://sh.wikipedia.org/wiki/Python',\n",
       " 'https://fi.wikipedia.org/wiki/Python',\n",
       " 'https://sv.wikipedia.org/wiki/Pyton',\n",
       " 'https://th.wikipedia.org/wiki/%E0%B9%84%E0%B8%9E%E0%B8%97%E0%B8%AD%E0%B8%99',\n",
       " 'https://tr.wikipedia.org/wiki/Python',\n",
       " 'https://uk.wikipedia.org/wiki/%D0%9F%D1%96%D1%84%D0%BE%D0%BD',\n",
       " 'https://ur.wikipedia.org/wiki/%D9%BE%D8%A7%D8%A6%DB%8C%D8%AA%DA%BE%D9%88%D9%86',\n",
       " 'https://vi.wikipedia.org/wiki/Python',\n",
       " 'https://zh.wikipedia.org/wiki/Python_(%E6%B6%88%E6%AD%A7%E4%B9%89)',\n",
       " 'https://www.wikidata.org/wiki/Special:EntityPage/Q747452#sitelinks-wikipedia',\n",
       " 'https://foundation.wikimedia.org/wiki/Privacy_policy',\n",
       " 'https://www.mediawiki.org/wiki/Special:MyLanguage/How_to_contribute',\n",
       " 'https://stats.wikimedia.org/#/en.wikipedia.org',\n",
       " 'https://foundation.wikimedia.org/wiki/Cookie_statement',\n",
       " 'https://wikimediafoundation.org/',\n",
       " 'https://www.mediawiki.org/']"
      ]
     },
     "execution_count": 214,
     "metadata": {},
     "output_type": "execute_result"
    }
   ],
   "source": [
    "links"
   ]
  },
  {
   "cell_type": "markdown",
   "metadata": {},
   "source": [
    "#### Find the number of titles that have changed in the United States Code since its last release point."
   ]
  },
  {
   "cell_type": "code",
   "execution_count": 2,
   "metadata": {},
   "outputs": [],
   "source": [
    "# This is the url you will scrape in this exercise\n",
    "url = 'http://uscode.house.gov/download/download.shtml'"
   ]
  },
  {
   "cell_type": "code",
   "execution_count": 3,
   "metadata": {},
   "outputs": [],
   "source": [
    "html = requests.get(url).content\n",
    "soup = BeautifulSoup(html, 'html.parser')"
   ]
  },
  {
   "cell_type": "code",
   "execution_count": 9,
   "metadata": {},
   "outputs": [],
   "source": [
    "table = soup.find_all('div', {'class': 'usctitlechanged'})"
   ]
  },
  {
   "cell_type": "code",
   "execution_count": 10,
   "metadata": {},
   "outputs": [],
   "source": [
    "titles_raw = [i.text.strip() for i in table]"
   ]
  },
  {
   "cell_type": "code",
   "execution_count": 13,
   "metadata": {},
   "outputs": [],
   "source": [
    "titles = [i.strip(' ٭') for i in titles_raw]"
   ]
  },
  {
   "cell_type": "code",
   "execution_count": 14,
   "metadata": {},
   "outputs": [
    {
     "data": {
      "text/plain": [
       "['Title 6 - Domestic Security',\n",
       " 'Title 10 - Armed Forces',\n",
       " 'Title 15 - Commerce and Trade',\n",
       " 'Title 20 - Education',\n",
       " 'Title 28 - Judiciary and Judicial Procedure',\n",
       " 'Title 31 - Money and Finance',\n",
       " 'Title 33 - Navigation and Navigable Waters',\n",
       " 'Title 36 - Patriotic and National Observances, Ceremonies, and Organizations',\n",
       " 'Title 37 - Pay and Allowances of the Uniformed Services',\n",
       " \"Title 38 - Veterans' Benefits\",\n",
       " 'Title 40 - Public Buildings, Property, and Works',\n",
       " 'Title 46 - Shipping']"
      ]
     },
     "execution_count": 14,
     "metadata": {},
     "output_type": "execute_result"
    }
   ],
   "source": [
    "titles"
   ]
  },
  {
   "cell_type": "markdown",
   "metadata": {},
   "source": [
    "#### Find a Python list with the top ten FBI's Most Wanted names."
   ]
  },
  {
   "cell_type": "code",
   "execution_count": 15,
   "metadata": {},
   "outputs": [],
   "source": [
    "# This is the url you will scrape in this exercise\n",
    "url = 'https://www.fbi.gov/wanted/topten'"
   ]
  },
  {
   "cell_type": "code",
   "execution_count": 16,
   "metadata": {},
   "outputs": [],
   "source": [
    "html = requests.get(url).content\n",
    "soup = BeautifulSoup(html, 'html.parser')"
   ]
  },
  {
   "cell_type": "code",
   "execution_count": 20,
   "metadata": {},
   "outputs": [],
   "source": [
    "fbi_names = soup.find_all('li', {'class': 'portal-type-person castle-grid-block-item'})"
   ]
  },
  {
   "cell_type": "code",
   "execution_count": 21,
   "metadata": {},
   "outputs": [],
   "source": [
    "top_ten = [i.text.strip() for i in fbi_names]"
   ]
  },
  {
   "cell_type": "code",
   "execution_count": 22,
   "metadata": {},
   "outputs": [
    {
     "data": {
      "text/plain": [
       "['BHADRESHKUMAR CHETANBHAI PATEL',\n",
       " 'ALEJANDRO ROSALES CASTILLO',\n",
       " 'ARNOLDO JIMENEZ',\n",
       " 'JASON DEREK BROWN',\n",
       " 'ALEXIS FLORES',\n",
       " 'JOSE RODOLFO VILLARREAL-HERNANDEZ',\n",
       " 'EUGENE PALMER',\n",
       " 'RAFAEL CARO-QUINTERO',\n",
       " 'ROBERT WILLIAM FISHER',\n",
       " 'YASER ABDEL SAID']"
      ]
     },
     "execution_count": 22,
     "metadata": {},
     "output_type": "execute_result"
    }
   ],
   "source": [
    "top_ten"
   ]
  },
  {
   "cell_type": "markdown",
   "metadata": {},
   "source": [
    "####  Display the 20 latest earthquakes info (date, time, latitude, longitude and region name) by the EMSC as a pandas dataframe."
   ]
  },
  {
   "cell_type": "code",
   "execution_count": 25,
   "metadata": {},
   "outputs": [],
   "source": [
    "# This is the url you will scrape in this exercise\n",
    "url = 'https://www.emsc-csem.org/Earthquake/'"
   ]
  },
  {
   "cell_type": "code",
   "execution_count": 26,
   "metadata": {},
   "outputs": [],
   "source": [
    "html = requests.get(url).content\n",
    "soup = BeautifulSoup(html, 'html.parser')"
   ]
  },
  {
   "cell_type": "code",
   "execution_count": 33,
   "metadata": {},
   "outputs": [],
   "source": [
    "table = soup.find_all('td', {'class' : ['tabev6', 'tabev1', 'tabev2', 'tabev3', 'tb_region']})"
   ]
  },
  {
   "cell_type": "code",
   "execution_count": 34,
   "metadata": {},
   "outputs": [
    {
     "data": {
      "text/plain": [
       "[<td class=\"tabev6\"><b><i style=\"display:none;\">earthquake</i><a href=\"/Earthquake/earthquake.php?id=947065\">2021-02-08   20:24:36.6</a></b><i class=\"ago\" id=\"ago0\">09min ago</i></td>,\n",
       " <td class=\"tabev1\">34.38 </td>,\n",
       " <td class=\"tabev2\">N  </td>,\n",
       " <td class=\"tabev1\">97.41 </td>,\n",
       " <td class=\"tabev2\">W  </td>,\n",
       " <td class=\"tabev3\">2</td>,\n",
       " <td class=\"tabev2\">2.7</td>,\n",
       " <td class=\"tb_region\" id=\"reg0\"> OKLAHOMA</td>,\n",
       " <td class=\"tabev6\"><b><i style=\"display:none;\">earthquake</i><a href=\"/Earthquake/earthquake.php?id=947063\">2021-02-08   20:14:35.0</a></b><i class=\"ago\" id=\"ago1\">19min ago</i></td>,\n",
       " <td class=\"tabev1\">46.04 </td>,\n",
       " <td class=\"tabev2\">N  </td>,\n",
       " <td class=\"tabev1\">15.39 </td>,\n",
       " <td class=\"tabev2\">E  </td>,\n",
       " <td class=\"tabev3\">12</td>,\n",
       " <td class=\"tabev2\">1.1</td>,\n",
       " <td class=\"tb_region\" id=\"reg1\"> SLOVENIA</td>,\n",
       " <td class=\"tabev6\"><b><i style=\"display:none;\">earthquake</i><a href=\"/Earthquake/earthquake.php?id=947066\">2021-02-08   20:08:09.1</a></b><i class=\"ago\" id=\"ago2\">25min ago</i></td>,\n",
       " <td class=\"tabev1\">18.88 </td>,\n",
       " <td class=\"tabev2\">S  </td>,\n",
       " <td class=\"tabev1\">172.57 </td>,\n",
       " <td class=\"tabev2\">W  </td>,\n",
       " <td class=\"tabev3\">10</td>,\n",
       " <td class=\"tabev2\">5.1</td>,\n",
       " <td class=\"tb_region\" id=\"reg2\"> TONGA REGION</td>,\n",
       " <td class=\"tabev6\"><b><i style=\"display:none;\">earthquake</i><a href=\"/Earthquake/earthquake.php?id=947060\">2021-02-08   20:01:18.1</a></b><i class=\"ago\" id=\"ago3\">32min ago</i></td>,\n",
       " <td class=\"tabev1\">38.95 </td>,\n",
       " <td class=\"tabev2\">N  </td>,\n",
       " <td class=\"tabev1\">26.00 </td>,\n",
       " <td class=\"tabev2\">E  </td>,\n",
       " <td class=\"tabev3\">2</td>,\n",
       " <td class=\"tabev2\">2.5</td>,\n",
       " <td class=\"tb_region\" id=\"reg3\"> NEAR THE COAST OF WESTERN TURKEY</td>,\n",
       " <td class=\"tabev6\"><b><i style=\"display:none;\">earthquake</i><a href=\"/Earthquake/earthquake.php?id=947057\">2021-02-08   19:31:51.0</a></b><i class=\"ago\" id=\"ago4\">1hr 01min ago</i></td>,\n",
       " <td class=\"tabev1\">1.73 </td>,\n",
       " <td class=\"tabev2\">N  </td>,\n",
       " <td class=\"tabev1\">126.59 </td>,\n",
       " <td class=\"tabev2\">E  </td>,\n",
       " <td class=\"tabev3\">10</td>,\n",
       " <td class=\"tabev2\">3.4</td>,\n",
       " <td class=\"tb_region\" id=\"reg4\"> MOLUCCA SEA</td>,\n",
       " <td class=\"tabev6\"><b><i style=\"display:none;\">earthquake</i><a href=\"/Earthquake/earthquake.php?id=947053\">2021-02-08   19:23:23.8</a></b><i class=\"ago\" id=\"ago5\">1hr 10min ago</i></td>,\n",
       " <td class=\"tabev1\">32.82 </td>,\n",
       " <td class=\"tabev2\">N  </td>,\n",
       " <td class=\"tabev1\">117.29 </td>,\n",
       " <td class=\"tabev2\">W  </td>,\n",
       " <td class=\"tabev3\">9</td>,\n",
       " <td class=\"tabev2\">2.0</td>,\n",
       " <td class=\"tb_region\" id=\"reg5\"> CHANNEL ISLANDS REG., CALIFORNIA</td>,\n",
       " <td class=\"tabev6\"><b><i style=\"display:none;\">earthquake</i><a href=\"/Earthquake/earthquake.php?id=947064\">2021-02-08   19:23:18.5</a></b><i class=\"ago\" id=\"ago6\">1hr 10min ago</i></td>,\n",
       " <td class=\"tabev1\">18.91 </td>,\n",
       " <td class=\"tabev2\">N  </td>,\n",
       " <td class=\"tabev1\">64.66 </td>,\n",
       " <td class=\"tabev2\">W  </td>,\n",
       " <td class=\"tabev3\">45</td>,\n",
       " <td class=\"tabev2\">3.2</td>,\n",
       " <td class=\"tb_region\" id=\"reg6\"> VIRGIN ISLANDS REGION</td>,\n",
       " <td class=\"tabev6\"><b><i style=\"display:none;\">earthquake</i><a href=\"/Earthquake/earthquake.php?id=947052\">2021-02-08   19:16:59.2</a></b><i class=\"ago\" id=\"ago7\">1hr 16min ago</i></td>,\n",
       " <td class=\"tabev1\">37.95 </td>,\n",
       " <td class=\"tabev2\">N  </td>,\n",
       " <td class=\"tabev1\">122.06 </td>,\n",
       " <td class=\"tabev2\">W  </td>,\n",
       " <td class=\"tabev3\">10</td>,\n",
       " <td class=\"tabev2\">2.0</td>,\n",
       " <td class=\"tb_region\" id=\"reg7\"> SAN FRANCISCO BAY AREA, CALIF.</td>,\n",
       " <td class=\"tabev6\"><b><i style=\"display:none;\">earthquake</i><a href=\"/Earthquake/earthquake.php?id=947054\">2021-02-08   19:14:55.0</a></b><i class=\"ago\" id=\"ago8\">1hr 18min ago</i></td>,\n",
       " <td class=\"tabev1\">22.00 </td>,\n",
       " <td class=\"tabev2\">S  </td>,\n",
       " <td class=\"tabev1\">68.71 </td>,\n",
       " <td class=\"tabev2\">W  </td>,\n",
       " <td class=\"tabev3\">115</td>,\n",
       " <td class=\"tabev2\">2.9</td>,\n",
       " <td class=\"tb_region\" id=\"reg8\"> ANTOFAGASTA, CHILE</td>,\n",
       " <td class=\"tabev6\"><b><i style=\"display:none;\">earthquake</i><a href=\"/Earthquake/earthquake.php?id=947051\">2021-02-08   19:11:27.8</a></b><i class=\"ago\" id=\"ago9\">1hr 22min ago</i></td>,\n",
       " <td class=\"tabev1\">19.24 </td>,\n",
       " <td class=\"tabev2\">N  </td>,\n",
       " <td class=\"tabev1\">155.39 </td>,\n",
       " <td class=\"tabev2\">W  </td>,\n",
       " <td class=\"tabev3\">30</td>,\n",
       " <td class=\"tabev2\">2.0</td>,\n",
       " <td class=\"tb_region\" id=\"reg9\"> ISLAND OF HAWAII, HAWAII</td>,\n",
       " <td class=\"tabev6\"><b><i style=\"display:none;\">earthquake</i><a href=\"/Earthquake/earthquake.php?id=947050\">2021-02-08   19:00:20.0</a></b><i class=\"ago\" id=\"ago10\">1hr 33min ago</i></td>,\n",
       " <td class=\"tabev1\">8.09 </td>,\n",
       " <td class=\"tabev2\">N  </td>,\n",
       " <td class=\"tabev1\">123.09 </td>,\n",
       " <td class=\"tabev2\">E  </td>,\n",
       " <td class=\"tabev3\">33</td>,\n",
       " <td class=\"tabev2\">3.1</td>,\n",
       " <td class=\"tb_region\" id=\"reg10\"> MINDANAO, PHILIPPINES</td>,\n",
       " <td class=\"tabev6\"><b><i style=\"display:none;\">earthquake</i><a href=\"/Earthquake/earthquake.php?id=947040\">2021-02-08   18:44:37.8</a></b><i class=\"ago\" id=\"ago11\">1hr 49min ago</i></td>,\n",
       " <td class=\"tabev1\">37.43 </td>,\n",
       " <td class=\"tabev2\">N  </td>,\n",
       " <td class=\"tabev1\">119.02 </td>,\n",
       " <td class=\"tabev2\">W  </td>,\n",
       " <td class=\"tabev3\">3</td>,\n",
       " <td class=\"tabev2\">2.2</td>,\n",
       " <td class=\"tb_region\" id=\"reg11\"> CENTRAL CALIFORNIA</td>,\n",
       " <td class=\"tabev6\"><b><i style=\"display:none;\">earthquake</i><a href=\"/Earthquake/earthquake.php?id=947045\">2021-02-08   18:43:27.3</a></b><i class=\"ago\" id=\"ago12\">1hr 50min ago</i></td>,\n",
       " <td class=\"tabev1\">37.23 </td>,\n",
       " <td class=\"tabev2\">N  </td>,\n",
       " <td class=\"tabev1\">15.55 </td>,\n",
       " <td class=\"tabev2\">E  </td>,\n",
       " <td class=\"tabev3\">27</td>,\n",
       " <td class=\"tabev2\">2.6</td>,\n",
       " <td class=\"tb_region\" id=\"reg12\"> SICILY, ITALY</td>,\n",
       " <td class=\"tabev6\"><b><i style=\"display:none;\">earthquake</i><a href=\"/Earthquake/earthquake.php?id=947047\">2021-02-08   18:30:33.8</a></b><i class=\"ago\" id=\"ago13\">2hr 03min ago</i></td>,\n",
       " <td class=\"tabev1\">36.39 </td>,\n",
       " <td class=\"tabev2\">N  </td>,\n",
       " <td class=\"tabev1\">28.69 </td>,\n",
       " <td class=\"tabev2\">E  </td>,\n",
       " <td class=\"tabev3\">7</td>,\n",
       " <td class=\"tabev2\">2.1</td>,\n",
       " <td class=\"tb_region\" id=\"reg13\"> DODECANESE IS.-TURKEY BORDER REG</td>,\n",
       " <td class=\"tabev6\"><b><i style=\"display:none;\">earthquake</i><a href=\"/Earthquake/earthquake.php?id=947046\">2021-02-08   18:30:01.5</a></b><i class=\"ago\" id=\"ago14\">2hr 03min ago</i></td>,\n",
       " <td class=\"tabev1\">19.04 </td>,\n",
       " <td class=\"tabev2\">N  </td>,\n",
       " <td class=\"tabev1\">64.70 </td>,\n",
       " <td class=\"tabev2\">W  </td>,\n",
       " <td class=\"tabev3\">48</td>,\n",
       " <td class=\"tabev2\">3.4</td>,\n",
       " <td class=\"tb_region\" id=\"reg14\"> VIRGIN ISLANDS REGION</td>,\n",
       " <td class=\"tabev6\"><b><i style=\"display:none;\">earthquake</i><a href=\"/Earthquake/earthquake.php?id=947036\">2021-02-08   18:06:00.0</a></b><i class=\"ago\" id=\"ago15\">2hr 27min ago</i></td>,\n",
       " <td class=\"tabev1\">38.97 </td>,\n",
       " <td class=\"tabev2\">N  </td>,\n",
       " <td class=\"tabev1\">26.05 </td>,\n",
       " <td class=\"tabev2\">E  </td>,\n",
       " <td class=\"tabev3\">10</td>,\n",
       " <td class=\"tabev2\">2.7</td>,\n",
       " <td class=\"tb_region\" id=\"reg15\"> NEAR THE COAST OF WESTERN TURKEY</td>,\n",
       " <td class=\"tabev6\"><b><i style=\"display:none;\">earthquake</i><a href=\"/Earthquake/earthquake.php?id=947042\">2021-02-08   18:05:12.6</a></b><i class=\"ago\" id=\"ago16\">2hr 28min ago</i></td>,\n",
       " <td class=\"tabev1\">19.04 </td>,\n",
       " <td class=\"tabev2\">N  </td>,\n",
       " <td class=\"tabev1\">64.76 </td>,\n",
       " <td class=\"tabev2\">W  </td>,\n",
       " <td class=\"tabev3\">78</td>,\n",
       " <td class=\"tabev2\">3.6</td>,\n",
       " <td class=\"tb_region\" id=\"reg16\"> VIRGIN ISLANDS REGION</td>,\n",
       " <td class=\"tabev6\"><b><i style=\"display:none;\">earthquake</i><a href=\"/Earthquake/earthquake.php?id=947033\">2021-02-08   17:59:58.0</a></b><i class=\"ago\" id=\"ago17\">2hr 33min ago</i></td>,\n",
       " <td class=\"tabev1\">45.74 </td>,\n",
       " <td class=\"tabev2\">N  </td>,\n",
       " <td class=\"tabev1\">15.66 </td>,\n",
       " <td class=\"tabev2\">E  </td>,\n",
       " <td class=\"tabev3\">1</td>,\n",
       " <td class=\"tabev2\">1.5</td>,\n",
       " <td class=\"tb_region\" id=\"reg17\"> CROATIA</td>,\n",
       " <td class=\"tabev6\"><b><i style=\"display:none;\">earthquake</i><a href=\"/Earthquake/earthquake.php?id=947031\">2021-02-08   17:52:17.7</a></b><i class=\"ago\" id=\"ago18\">2hr 41min ago</i></td>,\n",
       " <td class=\"tabev1\">38.73 </td>,\n",
       " <td class=\"tabev2\">N  </td>,\n",
       " <td class=\"tabev1\">44.61 </td>,\n",
       " <td class=\"tabev2\">E  </td>,\n",
       " <td class=\"tabev3\">2</td>,\n",
       " <td class=\"tabev2\">2.5</td>,\n",
       " <td class=\"tb_region\" id=\"reg18\"> TURKEY-IRAN BORDER REGION</td>,\n",
       " <td class=\"tabev6\"><b><i style=\"display:none;\">earthquake</i><a href=\"/Earthquake/earthquake.php?id=947038\">2021-02-08   17:36:53.6</a></b><i class=\"ago\" id=\"ago19\">2hr 56min ago</i></td>,\n",
       " <td class=\"tabev1\">39.04 </td>,\n",
       " <td class=\"tabev2\">N  </td>,\n",
       " <td class=\"tabev1\">0.22 </td>,\n",
       " <td class=\"tabev2\">W  </td>,\n",
       " <td class=\"tabev3\">3</td>,\n",
       " <td class=\"tabev2\">2.3</td>,\n",
       " <td class=\"tb_region\" id=\"reg19\"> SPAIN</td>,\n",
       " <td class=\"tabev6\"><b><i style=\"display:none;\">earthquake</i><a href=\"/Earthquake/earthquake.php?id=947030\">2021-02-08   17:33:15.0</a></b><i class=\"ago\" id=\"ago20\">3hr 00min ago</i></td>,\n",
       " <td class=\"tabev1\">7.48 </td>,\n",
       " <td class=\"tabev2\">N  </td>,\n",
       " <td class=\"tabev1\">126.78 </td>,\n",
       " <td class=\"tabev2\">E  </td>,\n",
       " <td class=\"tabev3\">29</td>,\n",
       " <td class=\"tabev2\">3.5</td>,\n",
       " <td class=\"tb_region\" id=\"reg20\"> MINDANAO, PHILIPPINES</td>,\n",
       " <td class=\"tabev6\"><b><i style=\"display:none;\">earthquake</i><a href=\"/Earthquake/earthquake.php?id=947029\">2021-02-08   17:24:49.0</a></b><i class=\"ago\" id=\"ago21\">3hr 08min ago</i></td>,\n",
       " <td class=\"tabev1\">21.58 </td>,\n",
       " <td class=\"tabev2\">S  </td>,\n",
       " <td class=\"tabev1\">69.92 </td>,\n",
       " <td class=\"tabev2\">W  </td>,\n",
       " <td class=\"tabev3\">79</td>,\n",
       " <td class=\"tabev2\">2.9</td>,\n",
       " <td class=\"tb_region\" id=\"reg21\"> ANTOFAGASTA, CHILE</td>,\n",
       " <td class=\"tabev6\"><b><i style=\"display:none;\">earthquake</i><a href=\"/Earthquake/earthquake.php?id=947027\">2021-02-08   17:14:07.0</a></b><i class=\"ago\" id=\"ago22\">3hr 19min ago</i></td>,\n",
       " <td class=\"tabev1\">33.89 </td>,\n",
       " <td class=\"tabev2\">S  </td>,\n",
       " <td class=\"tabev1\">72.09 </td>,\n",
       " <td class=\"tabev2\">W  </td>,\n",
       " <td class=\"tabev3\">24</td>,\n",
       " <td class=\"tabev2\">2.8</td>,\n",
       " <td class=\"tb_region\" id=\"reg22\"> OFFSHORE O'HIGGINS, CHILE</td>,\n",
       " <td class=\"tabev6\"><b><i style=\"display:none;\">earthquake</i><a href=\"/Earthquake/earthquake.php?id=947028\">2021-02-08   17:02:13.9</a></b><i class=\"ago\" id=\"ago23\">3hr 31min ago</i></td>,\n",
       " <td class=\"tabev1\">59.84 </td>,\n",
       " <td class=\"tabev2\">N  </td>,\n",
       " <td class=\"tabev1\">153.40 </td>,\n",
       " <td class=\"tabev2\">W  </td>,\n",
       " <td class=\"tabev3\">143</td>,\n",
       " <td class=\"tabev2\">2.6</td>,\n",
       " <td class=\"tb_region\" id=\"reg23\"> SOUTHERN ALASKA</td>,\n",
       " <td class=\"tabev6\"><b><i style=\"display:none;\">earthquake</i><a href=\"/Earthquake/earthquake.php?id=947024\">2021-02-08   16:58:02.2</a></b><i class=\"ago\" id=\"ago24\">3hr 35min ago</i></td>,\n",
       " <td class=\"tabev1\">24.35 </td>,\n",
       " <td class=\"tabev2\">N  </td>,\n",
       " <td class=\"tabev1\">122.13 </td>,\n",
       " <td class=\"tabev2\">E  </td>,\n",
       " <td class=\"tabev3\">22</td>,\n",
       " <td class=\"tabev2\">5.4</td>,\n",
       " <td class=\"tb_region\" id=\"reg24\"> TAIWAN REGION</td>,\n",
       " <td class=\"tabev6\"><b><i style=\"display:none;\">earthquake</i><a href=\"/Earthquake/earthquake.php?id=947023\">2021-02-08   16:56:31.1</a></b><i class=\"ago\" id=\"ago25\">3hr 37min ago</i></td>,\n",
       " <td class=\"tabev1\">24.37 </td>,\n",
       " <td class=\"tabev2\">N  </td>,\n",
       " <td class=\"tabev1\">122.39 </td>,\n",
       " <td class=\"tabev2\">E  </td>,\n",
       " <td class=\"tabev3\">63</td>,\n",
       " <td class=\"tabev2\">5.1</td>,\n",
       " <td class=\"tb_region\" id=\"reg25\"> TAIWAN REGION</td>,\n",
       " <td class=\"tabev6\"><b><i style=\"display:none;\">earthquake</i><a href=\"/Earthquake/earthquake.php?id=947021\">2021-02-08   16:54:23.5</a></b><i class=\"ago\" id=\"ago26\">3hr 39min ago</i></td>,\n",
       " <td class=\"tabev1\">19.26 </td>,\n",
       " <td class=\"tabev2\">N  </td>,\n",
       " <td class=\"tabev1\">155.40 </td>,\n",
       " <td class=\"tabev2\">W  </td>,\n",
       " <td class=\"tabev3\">32</td>,\n",
       " <td class=\"tabev2\">2.2</td>,\n",
       " <td class=\"tb_region\" id=\"reg26\"> ISLAND OF HAWAII, HAWAII</td>,\n",
       " <td class=\"tabev6\"><b><i style=\"display:none;\">earthquake</i><a href=\"/Earthquake/earthquake.php?id=947022\">2021-02-08   16:46:39.3</a></b><i class=\"ago\" id=\"ago27\">3hr 47min ago</i></td>,\n",
       " <td class=\"tabev1\">45.20 </td>,\n",
       " <td class=\"tabev2\">N  </td>,\n",
       " <td class=\"tabev1\">11.02 </td>,\n",
       " <td class=\"tabev2\">E  </td>,\n",
       " <td class=\"tabev3\">11</td>,\n",
       " <td class=\"tabev2\">2.2</td>,\n",
       " <td class=\"tb_region\" id=\"reg27\"> NORTHERN ITALY</td>,\n",
       " <td class=\"tabev6\"><b><i style=\"display:none;\">earthquake</i><a href=\"/Earthquake/earthquake.php?id=947025\">2021-02-08   16:45:06.8</a></b><i class=\"ago\" id=\"ago28\">3hr 48min ago</i></td>,\n",
       " <td class=\"tabev1\">19.25 </td>,\n",
       " <td class=\"tabev2\">N  </td>,\n",
       " <td class=\"tabev1\">64.66 </td>,\n",
       " <td class=\"tabev2\">W  </td>,\n",
       " <td class=\"tabev3\">35</td>,\n",
       " <td class=\"tabev2\">2.8</td>,\n",
       " <td class=\"tb_region\" id=\"reg28\"> VIRGIN ISLANDS REGION</td>,\n",
       " <td class=\"tabev6\"><b><i style=\"display:none;\">earthquake</i><a href=\"/Earthquake/earthquake.php?id=947062\">2021-02-08   16:44:46.0</a></b><i class=\"ago\" id=\"ago29\">3hr 48min ago</i></td>,\n",
       " <td class=\"tabev1\">45.88 </td>,\n",
       " <td class=\"tabev2\">N  </td>,\n",
       " <td class=\"tabev1\">7.00 </td>,\n",
       " <td class=\"tabev2\">E  </td>,\n",
       " <td class=\"tabev3\">4</td>,\n",
       " <td class=\"tabev2\">0.7</td>,\n",
       " <td class=\"tb_region\" id=\"reg29\"> NORTHERN ITALY</td>,\n",
       " <td class=\"tabev6\"><b><i style=\"display:none;\">earthquake</i><a href=\"/Earthquake/earthquake.php?id=947018\">2021-02-08   16:42:35.0</a></b><i class=\"ago\" id=\"ago30\">3hr 51min ago</i></td>,\n",
       " <td class=\"tabev1\">19.26 </td>,\n",
       " <td class=\"tabev2\">N  </td>,\n",
       " <td class=\"tabev1\">155.39 </td>,\n",
       " <td class=\"tabev2\">W  </td>,\n",
       " <td class=\"tabev3\">33</td>,\n",
       " <td class=\"tabev2\">2.2</td>,\n",
       " <td class=\"tb_region\" id=\"reg30\"> ISLAND OF HAWAII, HAWAII</td>,\n",
       " <td class=\"tabev6\"><b><i style=\"display:none;\">earthquake</i><a href=\"/Earthquake/earthquake.php?id=947016\">2021-02-08   16:34:50.1</a></b><i class=\"ago\" id=\"ago31\">3hr 58min ago</i></td>,\n",
       " <td class=\"tabev1\">37.91 </td>,\n",
       " <td class=\"tabev2\">N  </td>,\n",
       " <td class=\"tabev1\">118.55 </td>,\n",
       " <td class=\"tabev2\">W  </td>,\n",
       " <td class=\"tabev3\">3</td>,\n",
       " <td class=\"tabev2\">2.2</td>,\n",
       " <td class=\"tb_region\" id=\"reg31\"> CENTRAL CALIFORNIA</td>,\n",
       " <td class=\"tabev6\"><b><i style=\"display:none;\">earthquake</i><a href=\"/Earthquake/earthquake.php?id=947019\">2021-02-08   16:28:19.0</a></b><i class=\"ago\" id=\"ago32\">4hr 05min ago</i></td>,\n",
       " <td class=\"tabev1\">24.04 </td>,\n",
       " <td class=\"tabev2\">S  </td>,\n",
       " <td class=\"tabev1\">67.42 </td>,\n",
       " <td class=\"tabev2\">W  </td>,\n",
       " <td class=\"tabev3\">247</td>,\n",
       " <td class=\"tabev2\">2.6</td>,\n",
       " <td class=\"tb_region\" id=\"reg32\"> ANTOFAGASTA, CHILE</td>,\n",
       " <td class=\"tabev6\"><b><i style=\"display:none;\">earthquake</i><a href=\"/Earthquake/earthquake.php?id=947013\">2021-02-08   16:24:32.2</a></b><i class=\"ago\" id=\"ago33\">4hr 09min ago</i></td>,\n",
       " <td class=\"tabev1\">38.81 </td>,\n",
       " <td class=\"tabev2\">N  </td>,\n",
       " <td class=\"tabev1\">122.82 </td>,\n",
       " <td class=\"tabev2\">W  </td>,\n",
       " <td class=\"tabev3\">2</td>,\n",
       " <td class=\"tabev2\">2.2</td>,\n",
       " <td class=\"tb_region\" id=\"reg33\"> NORTHERN CALIFORNIA</td>,\n",
       " <td class=\"tabev6\"><b><i style=\"display:none;\">earthquake</i><a href=\"/Earthquake/earthquake.php?id=947017\">2021-02-08   16:23:04.5</a></b><i class=\"ago\" id=\"ago34\">4hr 10min ago</i></td>,\n",
       " <td class=\"tabev1\">18.00 </td>,\n",
       " <td class=\"tabev2\">N  </td>,\n",
       " <td class=\"tabev1\">66.77 </td>,\n",
       " <td class=\"tabev2\">W  </td>,\n",
       " <td class=\"tabev3\">11</td>,\n",
       " <td class=\"tabev2\">2.2</td>,\n",
       " <td class=\"tb_region\" id=\"reg34\"> PUERTO RICO REGION</td>,\n",
       " <td class=\"tabev6\"><b><i style=\"display:none;\">earthquake</i><a href=\"/Earthquake/earthquake.php?id=947011\">2021-02-08   16:22:00.9</a></b><i class=\"ago\" id=\"ago35\">4hr 11min ago</i></td>,\n",
       " <td class=\"tabev1\">38.10 </td>,\n",
       " <td class=\"tabev2\">N  </td>,\n",
       " <td class=\"tabev1\">27.42 </td>,\n",
       " <td class=\"tabev2\">E  </td>,\n",
       " <td class=\"tabev3\">5</td>,\n",
       " <td class=\"tabev2\">2.6</td>,\n",
       " <td class=\"tb_region\" id=\"reg35\"> WESTERN TURKEY</td>,\n",
       " <td class=\"tabev6\"><b><i style=\"display:none;\">earthquake</i><a href=\"/Earthquake/earthquake.php?id=947015\">2021-02-08   16:19:46.0</a></b><i class=\"ago\" id=\"ago36\">4hr 13min ago</i></td>,\n",
       " <td class=\"tabev1\">18.38 </td>,\n",
       " <td class=\"tabev2\">N  </td>,\n",
       " <td class=\"tabev1\">101.57 </td>,\n",
       " <td class=\"tabev2\">W  </td>,\n",
       " <td class=\"tabev3\">65</td>,\n",
       " <td class=\"tabev2\">4.0</td>,\n",
       " <td class=\"tb_region\" id=\"reg36\"> GUERRERO, MEXICO</td>,\n",
       " <td class=\"tabev6\"><b><i style=\"display:none;\">earthquake</i><a href=\"/Earthquake/earthquake.php?id=947012\">2021-02-08   16:13:13.0</a></b><i class=\"ago\" id=\"ago37\">4hr 20min ago</i></td>,\n",
       " <td class=\"tabev1\">20.98 </td>,\n",
       " <td class=\"tabev2\">S  </td>,\n",
       " <td class=\"tabev1\">178.91 </td>,\n",
       " <td class=\"tabev2\">W  </td>,\n",
       " <td class=\"tabev3\">626</td>,\n",
       " <td class=\"tabev2\">4.6</td>,\n",
       " <td class=\"tb_region\" id=\"reg37\"> FIJI REGION</td>,\n",
       " <td class=\"tabev6\"><b><i style=\"display:none;\">earthquake</i><a href=\"/Earthquake/earthquake.php?id=947009\">2021-02-08   16:10:30.0</a></b><i class=\"ago\" id=\"ago38\">4hr 23min ago</i></td>,\n",
       " <td class=\"tabev1\">8.32 </td>,\n",
       " <td class=\"tabev2\">N  </td>,\n",
       " <td class=\"tabev1\">82.96 </td>,\n",
       " <td class=\"tabev2\">W  </td>,\n",
       " <td class=\"tabev3\">10</td>,\n",
       " <td class=\"tabev2\">3.6</td>,\n",
       " <td class=\"tb_region\" id=\"reg38\"> PANAMA-COSTA RICA BORDER REGION</td>,\n",
       " <td class=\"tabev6\"><b><i style=\"display:none;\">earthquake</i><a href=\"/Earthquake/earthquake.php?id=947010\">2021-02-08   16:10:07.6</a></b><i class=\"ago\" id=\"ago39\">4hr 23min ago</i></td>,\n",
       " <td class=\"tabev1\">17.96 </td>,\n",
       " <td class=\"tabev2\">N  </td>,\n",
       " <td class=\"tabev1\">67.27 </td>,\n",
       " <td class=\"tabev2\">W  </td>,\n",
       " <td class=\"tabev3\">8</td>,\n",
       " <td class=\"tabev2\">2.8</td>,\n",
       " <td class=\"tb_region\" id=\"reg39\"> PUERTO RICO REGION</td>,\n",
       " <td class=\"tabev6\"><b><i style=\"display:none;\">earthquake</i><a href=\"/Earthquake/earthquake.php?id=947006\">2021-02-08   16:00:41.7</a></b><i class=\"ago\" id=\"ago40\">4hr 33min ago</i></td>,\n",
       " <td class=\"tabev1\">46.04 </td>,\n",
       " <td class=\"tabev2\">N  </td>,\n",
       " <td class=\"tabev1\">122.20 </td>,\n",
       " <td class=\"tabev2\">W  </td>,\n",
       " <td class=\"tabev3\">1</td>,\n",
       " <td class=\"tabev2\">2.4</td>,\n",
       " <td class=\"tb_region\" id=\"reg40\"> WASHINGTON</td>,\n",
       " <td class=\"tabev6\"><b><i style=\"display:none;\">earthquake</i><a href=\"/Earthquake/earthquake.php?id=947003\">2021-02-08   15:44:14.4</a></b><i class=\"ago\" id=\"ago41\">4hr 49min ago</i></td>,\n",
       " <td class=\"tabev1\">19.21 </td>,\n",
       " <td class=\"tabev2\">N  </td>,\n",
       " <td class=\"tabev1\">155.45 </td>,\n",
       " <td class=\"tabev2\">W  </td>,\n",
       " <td class=\"tabev3\">36</td>,\n",
       " <td class=\"tabev2\">2.3</td>,\n",
       " <td class=\"tb_region\" id=\"reg41\"> ISLAND OF HAWAII, HAWAII</td>,\n",
       " <td class=\"tabev6\"><b><i style=\"display:none;\">earthquake</i><a href=\"/Earthquake/earthquake.php?id=947008\">2021-02-08   15:39:45.0</a></b><i class=\"ago\" id=\"ago42\">4hr 53min ago</i></td>,\n",
       " <td class=\"tabev1\">43.22 </td>,\n",
       " <td class=\"tabev2\">N  </td>,\n",
       " <td class=\"tabev1\">80.06 </td>,\n",
       " <td class=\"tabev2\">E  </td>,\n",
       " <td class=\"tabev3\">1</td>,\n",
       " <td class=\"tabev2\">3.7</td>,\n",
       " <td class=\"tb_region\" id=\"reg42\"> KAZAKHSTAN-XINJIANG BORDER REG.</td>,\n",
       " <td class=\"tabev6\"><b><i style=\"display:none;\">earthquake</i><a href=\"/Earthquake/earthquake.php?id=947004\">2021-02-08   15:38:56.8</a></b><i class=\"ago\" id=\"ago43\">4hr 54min ago</i></td>,\n",
       " <td class=\"tabev1\">41.13 </td>,\n",
       " <td class=\"tabev2\">N  </td>,\n",
       " <td class=\"tabev1\">16.59 </td>,\n",
       " <td class=\"tabev2\">E  </td>,\n",
       " <td class=\"tabev3\">2</td>,\n",
       " <td class=\"tabev2\">2.5</td>,\n",
       " <td class=\"tb_region\" id=\"reg43\"> SOUTHERN ITALY</td>,\n",
       " <td class=\"tabev6\"><b><i style=\"display:none;\">earthquake</i><a href=\"/Earthquake/earthquake.php?id=947000\">2021-02-08   15:28:11.0</a></b><i class=\"ago\" id=\"ago44\">5hr 05min ago</i></td>,\n",
       " <td class=\"tabev1\">10.45 </td>,\n",
       " <td class=\"tabev2\">S  </td>,\n",
       " <td class=\"tabev1\">117.38 </td>,\n",
       " <td class=\"tabev2\">E  </td>,\n",
       " <td class=\"tabev3\">10</td>,\n",
       " <td class=\"tabev2\">3.9</td>,\n",
       " <td class=\"tb_region\" id=\"reg44\"> SOUTH OF SUMBAWA, INDONESIA</td>,\n",
       " <td class=\"tabev6\"><b><i style=\"display:none;\">earthquake</i><a href=\"/Earthquake/earthquake.php?id=946995\">2021-02-08   15:21:41.1</a></b><i class=\"ago\" id=\"ago45\">5hr 12min ago</i></td>,\n",
       " <td class=\"tabev1\">38.94 </td>,\n",
       " <td class=\"tabev2\">N  </td>,\n",
       " <td class=\"tabev1\">26.01 </td>,\n",
       " <td class=\"tabev2\">E  </td>,\n",
       " <td class=\"tabev3\">4</td>,\n",
       " <td class=\"tabev2\">3.3</td>,\n",
       " <td class=\"tb_region\" id=\"reg45\"> NEAR THE COAST OF WESTERN TURKEY</td>,\n",
       " <td class=\"tabev6\"><b><i style=\"display:none;\">earthquake</i><a href=\"/Earthquake/earthquake.php?id=946996\">2021-02-08   15:15:41.7</a></b><i class=\"ago\" id=\"ago46\">5hr 18min ago</i></td>,\n",
       " <td class=\"tabev1\">38.12 </td>,\n",
       " <td class=\"tabev2\">N  </td>,\n",
       " <td class=\"tabev1\">118.07 </td>,\n",
       " <td class=\"tabev2\">W  </td>,\n",
       " <td class=\"tabev3\">10</td>,\n",
       " <td class=\"tabev2\">3.5</td>,\n",
       " <td class=\"tb_region\" id=\"reg46\"> NEVADA</td>,\n",
       " <td class=\"tabev6\"><b><i style=\"display:none;\">earthquake</i><a href=\"/Earthquake/earthquake.php?id=946994\">2021-02-08   15:15:34.7</a></b><i class=\"ago\" id=\"ago47\">5hr 18min ago</i></td>,\n",
       " <td class=\"tabev1\">45.49 </td>,\n",
       " <td class=\"tabev2\">N  </td>,\n",
       " <td class=\"tabev1\">15.99 </td>,\n",
       " <td class=\"tabev2\">E  </td>,\n",
       " <td class=\"tabev3\">5</td>,\n",
       " <td class=\"tabev2\">2.4</td>,\n",
       " <td class=\"tb_region\" id=\"reg47\"> CROATIA</td>,\n",
       " <td class=\"tabev6\"><b><i style=\"display:none;\">earthquake</i><a href=\"/Earthquake/earthquake.php?id=947056\">2021-02-08   15:12:28.0</a></b><i class=\"ago\" id=\"ago48\">5hr 21min ago</i></td>,\n",
       " <td class=\"tabev1\">23.93 </td>,\n",
       " <td class=\"tabev2\">S  </td>,\n",
       " <td class=\"tabev1\">66.92 </td>,\n",
       " <td class=\"tabev2\">W  </td>,\n",
       " <td class=\"tabev3\">196</td>,\n",
       " <td class=\"tabev2\">3.0</td>,\n",
       " <td class=\"tb_region\" id=\"reg48\"> JUJUY, ARGENTINA</td>,\n",
       " <td class=\"tabev6\"><b><i style=\"display:none;\">earthquake</i><a href=\"/Earthquake/earthquake.php?id=947001\">2021-02-08   15:09:29.0</a></b><i class=\"ago\" id=\"ago49\">5hr 24min ago</i></td>,\n",
       " <td class=\"tabev1\">8.73 </td>,\n",
       " <td class=\"tabev2\">S  </td>,\n",
       " <td class=\"tabev1\">113.01 </td>,\n",
       " <td class=\"tabev2\">E  </td>,\n",
       " <td class=\"tabev3\">111</td>,\n",
       " <td class=\"tabev2\">3.1</td>,\n",
       " <td class=\"tb_region\" id=\"reg49\"> JAVA, INDONESIA</td>]"
      ]
     },
     "execution_count": 34,
     "metadata": {},
     "output_type": "execute_result"
    }
   ],
   "source": [
    "table\n",
    "\n",
    "# I tried to create the dataframe from here because is the best way I found to extract the data I need, but I'm stuck,\n",
    "# so I'll try to make this later"
   ]
  },
  {
   "cell_type": "code",
   "execution_count": 35,
   "metadata": {},
   "outputs": [],
   "source": [
    "table_text = [i.text for i in table]"
   ]
  },
  {
   "cell_type": "code",
   "execution_count": 52,
   "metadata": {},
   "outputs": [],
   "source": [
    "cleaning_table = [i.replace('\\xa0', '').replace('earthquake', '').replace('min ago', '') for i in table_text]"
   ]
  },
  {
   "cell_type": "code",
   "execution_count": 73,
   "metadata": {},
   "outputs": [
    {
     "data": {
      "text/plain": [
       "['2021-02-0820:24:36.609',\n",
       " '34.38',\n",
       " 'N',\n",
       " '97.41',\n",
       " 'W',\n",
       " '2',\n",
       " '2.7',\n",
       " 'OKLAHOMA',\n",
       " '2021-02-0820:14:35.019',\n",
       " '46.04',\n",
       " 'N',\n",
       " '15.39',\n",
       " 'E',\n",
       " '12',\n",
       " '1.1',\n",
       " 'SLOVENIA',\n",
       " '2021-02-0820:08:09.125',\n",
       " '18.88',\n",
       " 'S',\n",
       " '172.57',\n",
       " 'W',\n",
       " '10',\n",
       " '5.1',\n",
       " 'TONGA REGION',\n",
       " '2021-02-0820:01:18.132',\n",
       " '38.95',\n",
       " 'N',\n",
       " '26.00',\n",
       " 'E',\n",
       " '2',\n",
       " '2.5',\n",
       " 'NEAR THE COAST OF WESTERN TURKEY',\n",
       " '2021-02-0819:31:51.01hr 01',\n",
       " '1.73',\n",
       " 'N',\n",
       " '126.59',\n",
       " 'E',\n",
       " '10',\n",
       " '3.4',\n",
       " 'MOLUCCA SEA',\n",
       " '2021-02-0819:23:23.81hr 10',\n",
       " '32.82',\n",
       " 'N',\n",
       " '117.29',\n",
       " 'W',\n",
       " '9',\n",
       " '2.0',\n",
       " 'CHANNEL ISLANDS REG., CALIFORNIA',\n",
       " '2021-02-0819:23:18.51hr 10',\n",
       " '18.91',\n",
       " 'N',\n",
       " '64.66',\n",
       " 'W',\n",
       " '45',\n",
       " '3.2',\n",
       " 'VIRGIN ISLANDS REGION',\n",
       " '2021-02-0819:16:59.21hr 16',\n",
       " '37.95',\n",
       " 'N',\n",
       " '122.06',\n",
       " 'W',\n",
       " '10',\n",
       " '2.0',\n",
       " 'SAN FRANCISCO BAY AREA, CALIF.',\n",
       " '2021-02-0819:14:55.01hr 18',\n",
       " '22.00',\n",
       " 'S',\n",
       " '68.71',\n",
       " 'W',\n",
       " '115',\n",
       " '2.9',\n",
       " 'ANTOFAGASTA, CHILE',\n",
       " '2021-02-0819:11:27.81hr 22',\n",
       " '19.24',\n",
       " 'N',\n",
       " '155.39',\n",
       " 'W',\n",
       " '30',\n",
       " '2.0',\n",
       " 'ISLAND OF HAWAII, HAWAII',\n",
       " '2021-02-0819:00:20.01hr 33',\n",
       " '8.09',\n",
       " 'N',\n",
       " '123.09',\n",
       " 'E',\n",
       " '33',\n",
       " '3.1',\n",
       " 'MINDANAO, PHILIPPINES',\n",
       " '2021-02-0818:44:37.81hr 49',\n",
       " '37.43',\n",
       " 'N',\n",
       " '119.02',\n",
       " 'W',\n",
       " '3',\n",
       " '2.2',\n",
       " 'CENTRAL CALIFORNIA',\n",
       " '2021-02-0818:43:27.31hr 50',\n",
       " '37.23',\n",
       " 'N',\n",
       " '15.55',\n",
       " 'E',\n",
       " '27',\n",
       " '2.6',\n",
       " 'SICILY, ITALY',\n",
       " '2021-02-0818:30:33.82hr 03',\n",
       " '36.39',\n",
       " 'N',\n",
       " '28.69',\n",
       " 'E',\n",
       " '7',\n",
       " '2.1',\n",
       " 'DODECANESE IS.-TURKEY BORDER REG',\n",
       " '2021-02-0818:30:01.52hr 03',\n",
       " '19.04',\n",
       " 'N',\n",
       " '64.70',\n",
       " 'W',\n",
       " '48',\n",
       " '3.4',\n",
       " 'VIRGIN ISLANDS REGION',\n",
       " '2021-02-0818:06:00.02hr 27',\n",
       " '38.97',\n",
       " 'N',\n",
       " '26.05',\n",
       " 'E',\n",
       " '10',\n",
       " '2.7',\n",
       " 'NEAR THE COAST OF WESTERN TURKEY',\n",
       " '2021-02-0818:05:12.62hr 28',\n",
       " '19.04',\n",
       " 'N',\n",
       " '64.76',\n",
       " 'W',\n",
       " '78',\n",
       " '3.6',\n",
       " 'VIRGIN ISLANDS REGION',\n",
       " '2021-02-0817:59:58.02hr 33',\n",
       " '45.74',\n",
       " 'N',\n",
       " '15.66',\n",
       " 'E',\n",
       " '1',\n",
       " '1.5',\n",
       " 'CROATIA',\n",
       " '2021-02-0817:52:17.72hr 41',\n",
       " '38.73',\n",
       " 'N',\n",
       " '44.61',\n",
       " 'E',\n",
       " '2',\n",
       " '2.5',\n",
       " 'TURKEY-IRAN BORDER REGION',\n",
       " '2021-02-0817:36:53.62hr 56',\n",
       " '39.04',\n",
       " 'N',\n",
       " '0.22',\n",
       " 'W',\n",
       " '3',\n",
       " '2.3',\n",
       " 'SPAIN',\n",
       " '2021-02-0817:33:15.03hr 00',\n",
       " '7.48',\n",
       " 'N',\n",
       " '126.78',\n",
       " 'E',\n",
       " '29',\n",
       " '3.5',\n",
       " 'MINDANAO, PHILIPPINES',\n",
       " '2021-02-0817:24:49.03hr 08',\n",
       " '21.58',\n",
       " 'S',\n",
       " '69.92',\n",
       " 'W',\n",
       " '79',\n",
       " '2.9',\n",
       " 'ANTOFAGASTA, CHILE',\n",
       " '2021-02-0817:14:07.03hr 19',\n",
       " '33.89',\n",
       " 'S',\n",
       " '72.09',\n",
       " 'W',\n",
       " '24',\n",
       " '2.8',\n",
       " \"OFFSHORE O'HIGGINS, CHILE\",\n",
       " '2021-02-0817:02:13.93hr 31',\n",
       " '59.84',\n",
       " 'N',\n",
       " '153.40',\n",
       " 'W',\n",
       " '143',\n",
       " '2.6',\n",
       " 'SOUTHERN ALASKA',\n",
       " '2021-02-0816:58:02.23hr 35',\n",
       " '24.35',\n",
       " 'N',\n",
       " '122.13',\n",
       " 'E',\n",
       " '22',\n",
       " '5.4',\n",
       " 'TAIWAN REGION',\n",
       " '2021-02-0816:56:31.13hr 37',\n",
       " '24.37',\n",
       " 'N',\n",
       " '122.39',\n",
       " 'E',\n",
       " '63',\n",
       " '5.1',\n",
       " 'TAIWAN REGION',\n",
       " '2021-02-0816:54:23.53hr 39',\n",
       " '19.26',\n",
       " 'N',\n",
       " '155.40',\n",
       " 'W',\n",
       " '32',\n",
       " '2.2',\n",
       " 'ISLAND OF HAWAII, HAWAII',\n",
       " '2021-02-0816:46:39.33hr 47',\n",
       " '45.20',\n",
       " 'N',\n",
       " '11.02',\n",
       " 'E',\n",
       " '11',\n",
       " '2.2',\n",
       " 'NORTHERN ITALY',\n",
       " '2021-02-0816:45:06.83hr 48',\n",
       " '19.25',\n",
       " 'N',\n",
       " '64.66',\n",
       " 'W',\n",
       " '35',\n",
       " '2.8',\n",
       " 'VIRGIN ISLANDS REGION',\n",
       " '2021-02-0816:44:46.03hr 48',\n",
       " '45.88',\n",
       " 'N',\n",
       " '7.00',\n",
       " 'E',\n",
       " '4',\n",
       " '0.7',\n",
       " 'NORTHERN ITALY',\n",
       " '2021-02-0816:42:35.03hr 51',\n",
       " '19.26',\n",
       " 'N',\n",
       " '155.39',\n",
       " 'W',\n",
       " '33',\n",
       " '2.2',\n",
       " 'ISLAND OF HAWAII, HAWAII',\n",
       " '2021-02-0816:34:50.13hr 58',\n",
       " '37.91',\n",
       " 'N',\n",
       " '118.55',\n",
       " 'W',\n",
       " '3',\n",
       " '2.2',\n",
       " 'CENTRAL CALIFORNIA',\n",
       " '2021-02-0816:28:19.04hr 05',\n",
       " '24.04',\n",
       " 'S',\n",
       " '67.42',\n",
       " 'W',\n",
       " '247',\n",
       " '2.6',\n",
       " 'ANTOFAGASTA, CHILE',\n",
       " '2021-02-0816:24:32.24hr 09',\n",
       " '38.81',\n",
       " 'N',\n",
       " '122.82',\n",
       " 'W',\n",
       " '2',\n",
       " '2.2',\n",
       " 'NORTHERN CALIFORNIA',\n",
       " '2021-02-0816:23:04.54hr 10',\n",
       " '18.00',\n",
       " 'N',\n",
       " '66.77',\n",
       " 'W',\n",
       " '11',\n",
       " '2.2',\n",
       " 'PUERTO RICO REGION',\n",
       " '2021-02-0816:22:00.94hr 11',\n",
       " '38.10',\n",
       " 'N',\n",
       " '27.42',\n",
       " 'E',\n",
       " '5',\n",
       " '2.6',\n",
       " 'WESTERN TURKEY',\n",
       " '2021-02-0816:19:46.04hr 13',\n",
       " '18.38',\n",
       " 'N',\n",
       " '101.57',\n",
       " 'W',\n",
       " '65',\n",
       " '4.0',\n",
       " 'GUERRERO, MEXICO',\n",
       " '2021-02-0816:13:13.04hr 20',\n",
       " '20.98',\n",
       " 'S',\n",
       " '178.91',\n",
       " 'W',\n",
       " '626',\n",
       " '4.6',\n",
       " 'FIJI REGION',\n",
       " '2021-02-0816:10:30.04hr 23',\n",
       " '8.32',\n",
       " 'N',\n",
       " '82.96',\n",
       " 'W',\n",
       " '10',\n",
       " '3.6',\n",
       " 'PANAMA-COSTA RICA BORDER REGION',\n",
       " '2021-02-0816:10:07.64hr 23',\n",
       " '17.96',\n",
       " 'N',\n",
       " '67.27',\n",
       " 'W',\n",
       " '8',\n",
       " '2.8',\n",
       " 'PUERTO RICO REGION',\n",
       " '2021-02-0816:00:41.74hr 33',\n",
       " '46.04',\n",
       " 'N',\n",
       " '122.20',\n",
       " 'W',\n",
       " '1',\n",
       " '2.4',\n",
       " 'WASHINGTON',\n",
       " '2021-02-0815:44:14.44hr 49',\n",
       " '19.21',\n",
       " 'N',\n",
       " '155.45',\n",
       " 'W',\n",
       " '36',\n",
       " '2.3',\n",
       " 'ISLAND OF HAWAII, HAWAII',\n",
       " '2021-02-0815:39:45.04hr 53',\n",
       " '43.22',\n",
       " 'N',\n",
       " '80.06',\n",
       " 'E',\n",
       " '1',\n",
       " '3.7',\n",
       " 'KAZAKHSTAN-XINJIANG BORDER REG.',\n",
       " '2021-02-0815:38:56.84hr 54',\n",
       " '41.13',\n",
       " 'N',\n",
       " '16.59',\n",
       " 'E',\n",
       " '2',\n",
       " '2.5',\n",
       " 'SOUTHERN ITALY',\n",
       " '2021-02-0815:28:11.05hr 05',\n",
       " '10.45',\n",
       " 'S',\n",
       " '117.38',\n",
       " 'E',\n",
       " '10',\n",
       " '3.9',\n",
       " 'SOUTH OF SUMBAWA, INDONESIA',\n",
       " '2021-02-0815:21:41.15hr 12',\n",
       " '38.94',\n",
       " 'N',\n",
       " '26.01',\n",
       " 'E',\n",
       " '4',\n",
       " '3.3',\n",
       " 'NEAR THE COAST OF WESTERN TURKEY',\n",
       " '2021-02-0815:15:41.75hr 18',\n",
       " '38.12',\n",
       " 'N',\n",
       " '118.07',\n",
       " 'W',\n",
       " '10',\n",
       " '3.5',\n",
       " 'NEVADA',\n",
       " '2021-02-0815:15:34.75hr 18',\n",
       " '45.49',\n",
       " 'N',\n",
       " '15.99',\n",
       " 'E',\n",
       " '5',\n",
       " '2.4',\n",
       " 'CROATIA',\n",
       " '2021-02-0815:12:28.05hr 21',\n",
       " '23.93',\n",
       " 'S',\n",
       " '66.92',\n",
       " 'W',\n",
       " '196',\n",
       " '3.0',\n",
       " 'JUJUY, ARGENTINA',\n",
       " '2021-02-0815:09:29.05hr 24',\n",
       " '8.73',\n",
       " 'S',\n",
       " '113.01',\n",
       " 'E',\n",
       " '111',\n",
       " '3.1',\n",
       " 'JAVA, INDONESIA']"
      ]
     },
     "execution_count": 73,
     "metadata": {},
     "output_type": "execute_result"
    }
   ],
   "source": [
    "cleaning_table"
   ]
  },
  {
   "cell_type": "code",
   "execution_count": null,
   "metadata": {},
   "outputs": [],
   "source": []
  },
  {
   "cell_type": "code",
   "execution_count": null,
   "metadata": {},
   "outputs": [],
   "source": []
  },
  {
   "cell_type": "code",
   "execution_count": null,
   "metadata": {},
   "outputs": [],
   "source": []
  },
  {
   "cell_type": "code",
   "execution_count": null,
   "metadata": {},
   "outputs": [],
   "source": []
  },
  {
   "cell_type": "code",
   "execution_count": null,
   "metadata": {},
   "outputs": [],
   "source": []
  },
  {
   "cell_type": "code",
   "execution_count": null,
   "metadata": {},
   "outputs": [],
   "source": []
  },
  {
   "cell_type": "markdown",
   "metadata": {},
   "source": [
    "#### Count the number of tweets by a given Twitter account.\n",
    "Ask the user for the handle (@handle) of a twitter account. You will need to include a ***try/except block*** for account names not found. \n",
    "<br>***Hint:*** the program should count the number of tweets for any provided account."
   ]
  },
  {
   "cell_type": "code",
   "execution_count": null,
   "metadata": {},
   "outputs": [],
   "source": [
    "# This is the url you will scrape in this exercise \n",
    "# You will need to add the account credentials to this url\n",
    "url = 'https://twitter.com/'"
   ]
  },
  {
   "cell_type": "code",
   "execution_count": null,
   "metadata": {},
   "outputs": [],
   "source": [
    "# your code here"
   ]
  },
  {
   "cell_type": "markdown",
   "metadata": {},
   "source": [
    "#### Number of followers of a given twitter account\n",
    "Ask the user for the handle (@handle) of a twitter account. You will need to include a ***try/except block*** for account names not found. \n",
    "<br>***Hint:*** the program should count the followers for any provided account."
   ]
  },
  {
   "cell_type": "code",
   "execution_count": null,
   "metadata": {},
   "outputs": [],
   "source": [
    "# This is the url you will scrape in this exercise \n",
    "# You will need to add the account credentials to this url\n",
    "url = 'https://twitter.com/'"
   ]
  },
  {
   "cell_type": "code",
   "execution_count": null,
   "metadata": {},
   "outputs": [],
   "source": [
    "# your code here"
   ]
  },
  {
   "cell_type": "markdown",
   "metadata": {},
   "source": [
    "#### List all language names and number of related articles in the order they appear in wikipedia.org."
   ]
  },
  {
   "cell_type": "code",
   "execution_count": null,
   "metadata": {},
   "outputs": [],
   "source": [
    "# This is the url you will scrape in this exercise\n",
    "url = 'https://www.wikipedia.org/'"
   ]
  },
  {
   "cell_type": "code",
   "execution_count": null,
   "metadata": {},
   "outputs": [],
   "source": [
    "# your code here"
   ]
  },
  {
   "cell_type": "markdown",
   "metadata": {},
   "source": [
    "#### A list with the different kind of datasets available in data.gov.uk."
   ]
  },
  {
   "cell_type": "code",
   "execution_count": null,
   "metadata": {},
   "outputs": [],
   "source": [
    "# This is the url you will scrape in this exercise\n",
    "url = 'https://data.gov.uk/'"
   ]
  },
  {
   "cell_type": "code",
   "execution_count": null,
   "metadata": {},
   "outputs": [],
   "source": [
    "# your code here"
   ]
  },
  {
   "cell_type": "markdown",
   "metadata": {},
   "source": [
    "#### Display the top 10 languages by number of native speakers stored in a pandas dataframe."
   ]
  },
  {
   "cell_type": "code",
   "execution_count": null,
   "metadata": {},
   "outputs": [],
   "source": [
    "# This is the url you will scrape in this exercise\n",
    "url = 'https://en.wikipedia.org/wiki/List_of_languages_by_number_of_native_speakers'"
   ]
  },
  {
   "cell_type": "code",
   "execution_count": null,
   "metadata": {},
   "outputs": [],
   "source": [
    "# your code here"
   ]
  },
  {
   "cell_type": "markdown",
   "metadata": {},
   "source": [
    "## Bonus\n",
    "#### Scrape a certain number of tweets of a given Twitter account."
   ]
  },
  {
   "cell_type": "code",
   "execution_count": null,
   "metadata": {},
   "outputs": [],
   "source": [
    "# This is the url you will scrape in this exercise \n",
    "# You will need to add the account credentials to this url\n",
    "url = 'https://twitter.com/'"
   ]
  },
  {
   "cell_type": "code",
   "execution_count": null,
   "metadata": {},
   "outputs": [],
   "source": [
    "# your code here"
   ]
  },
  {
   "cell_type": "markdown",
   "metadata": {},
   "source": [
    "#### Display IMDB's top 250 data (movie name, initial release, director name and stars) as a pandas dataframe."
   ]
  },
  {
   "cell_type": "code",
   "execution_count": null,
   "metadata": {},
   "outputs": [],
   "source": [
    "# This is the url you will scrape in this exercise \n",
    "url = 'https://www.imdb.com/chart/top'"
   ]
  },
  {
   "cell_type": "code",
   "execution_count": null,
   "metadata": {},
   "outputs": [],
   "source": [
    "# your code here"
   ]
  },
  {
   "cell_type": "markdown",
   "metadata": {},
   "source": [
    "#### Display the movie name, year and a brief summary of the top 10 random movies (IMDB) as a pandas dataframe."
   ]
  },
  {
   "cell_type": "code",
   "execution_count": null,
   "metadata": {},
   "outputs": [],
   "source": [
    "#This is the url you will scrape in this exercise\n",
    "url = 'http://www.imdb.com/chart/top'"
   ]
  },
  {
   "cell_type": "code",
   "execution_count": null,
   "metadata": {},
   "outputs": [],
   "source": [
    "# your code here"
   ]
  },
  {
   "cell_type": "markdown",
   "metadata": {},
   "source": [
    "#### Find the live weather report (temperature, wind speed, description and weather) of a given city."
   ]
  },
  {
   "cell_type": "code",
   "execution_count": null,
   "metadata": {},
   "outputs": [],
   "source": [
    "#https://openweathermap.org/current\n",
    "city = input('Enter the city: ')\n",
    "url = 'http://api.openweathermap.org/data/2.5/weather?'+'q='+city+'&APPID=b35975e18dc93725acb092f7272cc6b8&units=metric'"
   ]
  },
  {
   "cell_type": "code",
   "execution_count": null,
   "metadata": {},
   "outputs": [],
   "source": [
    "# your code here"
   ]
  },
  {
   "cell_type": "markdown",
   "metadata": {},
   "source": [
    "#### Find the book name, price and stock availability as a pandas dataframe."
   ]
  },
  {
   "cell_type": "code",
   "execution_count": null,
   "metadata": {},
   "outputs": [],
   "source": [
    "# This is the url you will scrape in this exercise. \n",
    "# It is a fictional bookstore created to be scraped. \n",
    "url = 'http://books.toscrape.com/'"
   ]
  },
  {
   "cell_type": "code",
   "execution_count": null,
   "metadata": {},
   "outputs": [],
   "source": [
    "# your code here"
   ]
  }
 ],
 "metadata": {
  "kernelspec": {
   "display_name": "Python 3",
   "language": "python",
   "name": "python3"
  },
  "language_info": {
   "codemirror_mode": {
    "name": "ipython",
    "version": 3
   },
   "file_extension": ".py",
   "mimetype": "text/x-python",
   "name": "python",
   "nbconvert_exporter": "python",
   "pygments_lexer": "ipython3",
   "version": "3.8.5"
  }
 },
 "nbformat": 4,
 "nbformat_minor": 4
}
